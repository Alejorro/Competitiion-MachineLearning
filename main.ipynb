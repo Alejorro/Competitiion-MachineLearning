{
 "nbformat": 4,
 "nbformat_minor": 2,
 "metadata": {
  "language_info": {
   "name": "python",
   "codemirror_mode": {
    "name": "ipython",
    "version": 3
   },
   "version": "3.6.9-final"
  },
  "orig_nbformat": 2,
  "file_extension": ".py",
  "mimetype": "text/x-python",
  "name": "python",
  "npconvert_exporter": "python",
  "pygments_lexer": "ipython3",
  "version": 3,
  "kernelspec": {
   "name": "python36964bit393d81eb15b54b0093ea31921d80c86d",
   "display_name": "Python 3.6.9 64-bit"
  }
 },
 "cells": [
  {
   "cell_type": "markdown",
   "metadata": {},
   "source": [
    "# Competition Machine Learning"
   ]
  },
  {
   "cell_type": "markdown",
   "metadata": {},
   "source": [
    "## Importación de librerías"
   ]
  },
  {
   "cell_type": "code",
   "execution_count": 247,
   "metadata": {},
   "outputs": [],
   "source": [
    "%matplotlib inline\n",
    "\n",
    "import pandas as pd\n",
    "\n",
    "import numpy as np\n",
    "from sklearn.preprocessing import StandardScaler, Normalizer\n",
    "from sklearn.pipeline import make_pipeline\n",
    "\n",
    "from sklearn.model_selection import train_test_split\n",
    "from sklearn.metrics import mean_squared_error\n",
    "from sklearn.linear_model import LogisticRegression\n",
    "\n",
    "from sklearn.svm import SVR\n",
    "\n",
    "\n",
    "from sklearn.metrics import roc_auc_score\n",
    "from sklearn.metrics import roc_curve\n",
    "import matplotlib.pyplot as plt\n",
    "\n",
    "\n",
    "from sklearn.neighbors import KNeighborsClassifier\n",
    "\n",
    "from sklearn.linear_model import LogisticRegression\n",
    "from sklearn.svm import LinearSVC\n",
    "from sklearn.ensemble import RandomForestClassifier\n",
    "from sklearn.svm import SVC\n",
    "from sklearn.calibration import CalibratedClassifierCV"
   ]
  },
  {
   "cell_type": "markdown",
   "metadata": {},
   "source": [
    "## Importación de dataset"
   ]
  },
  {
   "cell_type": "code",
   "execution_count": 248,
   "metadata": {},
   "outputs": [],
   "source": [
    "df = pd.read_csv(\"Inputs/diamonds_train.csv\")"
   ]
  },
  {
   "cell_type": "code",
   "execution_count": 249,
   "metadata": {},
   "outputs": [
    {
     "data": {
      "text/html": "<div>\n<style scoped>\n    .dataframe tbody tr th:only-of-type {\n        vertical-align: middle;\n    }\n\n    .dataframe tbody tr th {\n        vertical-align: top;\n    }\n\n    .dataframe thead th {\n        text-align: right;\n    }\n</style>\n<table border=\"1\" class=\"dataframe\">\n  <thead>\n    <tr style=\"text-align: right;\">\n      <th></th>\n      <th>id</th>\n      <th>carat</th>\n      <th>cut</th>\n      <th>color</th>\n      <th>clarity</th>\n      <th>depth</th>\n      <th>table</th>\n      <th>x</th>\n      <th>y</th>\n      <th>z</th>\n      <th>price</th>\n    </tr>\n  </thead>\n  <tbody>\n    <tr>\n      <th>0</th>\n      <td>0</td>\n      <td>0.78</td>\n      <td>Premium</td>\n      <td>F</td>\n      <td>VS1</td>\n      <td>61.5</td>\n      <td>58.0</td>\n      <td>5.93</td>\n      <td>5.98</td>\n      <td>3.66</td>\n      <td>3446</td>\n    </tr>\n    <tr>\n      <th>1</th>\n      <td>1</td>\n      <td>0.31</td>\n      <td>Ideal</td>\n      <td>D</td>\n      <td>SI1</td>\n      <td>60.8</td>\n      <td>56.0</td>\n      <td>4.37</td>\n      <td>4.32</td>\n      <td>2.64</td>\n      <td>732</td>\n    </tr>\n    <tr>\n      <th>2</th>\n      <td>2</td>\n      <td>0.30</td>\n      <td>Ideal</td>\n      <td>F</td>\n      <td>SI1</td>\n      <td>62.3</td>\n      <td>54.0</td>\n      <td>4.30</td>\n      <td>4.34</td>\n      <td>2.69</td>\n      <td>475</td>\n    </tr>\n    <tr>\n      <th>3</th>\n      <td>3</td>\n      <td>1.04</td>\n      <td>Ideal</td>\n      <td>E</td>\n      <td>VVS2</td>\n      <td>62.0</td>\n      <td>58.0</td>\n      <td>6.54</td>\n      <td>6.46</td>\n      <td>4.03</td>\n      <td>9552</td>\n    </tr>\n    <tr>\n      <th>4</th>\n      <td>4</td>\n      <td>0.65</td>\n      <td>Ideal</td>\n      <td>J</td>\n      <td>SI1</td>\n      <td>61.4</td>\n      <td>55.0</td>\n      <td>5.58</td>\n      <td>5.62</td>\n      <td>3.44</td>\n      <td>1276</td>\n    </tr>\n  </tbody>\n</table>\n</div>",
      "text/plain": "   id  carat      cut color clarity  depth  table     x     y     z  price\n0   0   0.78  Premium     F     VS1   61.5   58.0  5.93  5.98  3.66   3446\n1   1   0.31    Ideal     D     SI1   60.8   56.0  4.37  4.32  2.64    732\n2   2   0.30    Ideal     F     SI1   62.3   54.0  4.30  4.34  2.69    475\n3   3   1.04    Ideal     E    VVS2   62.0   58.0  6.54  6.46  4.03   9552\n4   4   0.65    Ideal     J     SI1   61.4   55.0  5.58  5.62  3.44   1276"
     },
     "execution_count": 249,
     "metadata": {},
     "output_type": "execute_result"
    }
   ],
   "source": [
    "df.head()"
   ]
  },
  {
   "cell_type": "markdown",
   "metadata": {},
   "source": [
    "## Exploración de datos"
   ]
  },
  {
   "cell_type": "markdown",
   "metadata": {},
   "source": [
    "**Nivel General**"
   ]
  },
  {
   "cell_type": "code",
   "execution_count": 250,
   "metadata": {},
   "outputs": [
    {
     "data": {
      "text/plain": "id         0\ncarat      0\ncut        0\ncolor      0\nclarity    0\ndepth      0\ntable      0\nx          0\ny          0\nz          0\nprice      0\ndtype: int64"
     },
     "execution_count": 250,
     "metadata": {},
     "output_type": "execute_result"
    }
   ],
   "source": [
    "df.isnull().sum()"
   ]
  },
  {
   "cell_type": "code",
   "execution_count": 251,
   "metadata": {},
   "outputs": [
    {
     "data": {
      "text/html": "<div>\n<style scoped>\n    .dataframe tbody tr th:only-of-type {\n        vertical-align: middle;\n    }\n\n    .dataframe tbody tr th {\n        vertical-align: top;\n    }\n\n    .dataframe thead th {\n        text-align: right;\n    }\n</style>\n<table border=\"1\" class=\"dataframe\">\n  <thead>\n    <tr style=\"text-align: right;\">\n      <th></th>\n      <th>id</th>\n      <th>carat</th>\n      <th>depth</th>\n      <th>table</th>\n      <th>x</th>\n      <th>y</th>\n      <th>z</th>\n      <th>price</th>\n    </tr>\n  </thead>\n  <tbody>\n    <tr>\n      <th>id</th>\n      <td>1.000000</td>\n      <td>0.001804</td>\n      <td>-0.003035</td>\n      <td>0.004436</td>\n      <td>0.003238</td>\n      <td>0.002021</td>\n      <td>0.002507</td>\n      <td>0.001823</td>\n    </tr>\n    <tr>\n      <th>carat</th>\n      <td>0.001804</td>\n      <td>1.000000</td>\n      <td>0.023118</td>\n      <td>0.181725</td>\n      <td>0.976267</td>\n      <td>0.945757</td>\n      <td>0.968685</td>\n      <td>0.922345</td>\n    </tr>\n    <tr>\n      <th>depth</th>\n      <td>-0.003035</td>\n      <td>0.023118</td>\n      <td>1.000000</td>\n      <td>-0.299534</td>\n      <td>-0.028765</td>\n      <td>-0.032894</td>\n      <td>0.092482</td>\n      <td>-0.013307</td>\n    </tr>\n    <tr>\n      <th>table</th>\n      <td>0.004436</td>\n      <td>0.181725</td>\n      <td>-0.299534</td>\n      <td>1.000000</td>\n      <td>0.195775</td>\n      <td>0.182559</td>\n      <td>0.154399</td>\n      <td>0.126545</td>\n    </tr>\n    <tr>\n      <th>x</th>\n      <td>0.003238</td>\n      <td>0.976267</td>\n      <td>-0.028765</td>\n      <td>0.195775</td>\n      <td>1.000000</td>\n      <td>0.967143</td>\n      <td>0.985385</td>\n      <td>0.886168</td>\n    </tr>\n    <tr>\n      <th>y</th>\n      <td>0.002021</td>\n      <td>0.945757</td>\n      <td>-0.032894</td>\n      <td>0.182559</td>\n      <td>0.967143</td>\n      <td>1.000000</td>\n      <td>0.960350</td>\n      <td>0.860499</td>\n    </tr>\n    <tr>\n      <th>z</th>\n      <td>0.002507</td>\n      <td>0.968685</td>\n      <td>0.092482</td>\n      <td>0.154399</td>\n      <td>0.985385</td>\n      <td>0.960350</td>\n      <td>1.000000</td>\n      <td>0.876061</td>\n    </tr>\n    <tr>\n      <th>price</th>\n      <td>0.001823</td>\n      <td>0.922345</td>\n      <td>-0.013307</td>\n      <td>0.126545</td>\n      <td>0.886168</td>\n      <td>0.860499</td>\n      <td>0.876061</td>\n      <td>1.000000</td>\n    </tr>\n  </tbody>\n</table>\n</div>",
      "text/plain": "             id     carat     depth     table         x         y         z  \\\nid     1.000000  0.001804 -0.003035  0.004436  0.003238  0.002021  0.002507   \ncarat  0.001804  1.000000  0.023118  0.181725  0.976267  0.945757  0.968685   \ndepth -0.003035  0.023118  1.000000 -0.299534 -0.028765 -0.032894  0.092482   \ntable  0.004436  0.181725 -0.299534  1.000000  0.195775  0.182559  0.154399   \nx      0.003238  0.976267 -0.028765  0.195775  1.000000  0.967143  0.985385   \ny      0.002021  0.945757 -0.032894  0.182559  0.967143  1.000000  0.960350   \nz      0.002507  0.968685  0.092482  0.154399  0.985385  0.960350  1.000000   \nprice  0.001823  0.922345 -0.013307  0.126545  0.886168  0.860499  0.876061   \n\n          price  \nid     0.001823  \ncarat  0.922345  \ndepth -0.013307  \ntable  0.126545  \nx      0.886168  \ny      0.860499  \nz      0.876061  \nprice  1.000000  "
     },
     "execution_count": 251,
     "metadata": {},
     "output_type": "execute_result"
    }
   ],
   "source": [
    "df.corr()"
   ]
  },
  {
   "cell_type": "markdown",
   "metadata": {},
   "source": [
    "**Carat = Quilates**"
   ]
  },
  {
   "cell_type": "code",
   "execution_count": 252,
   "metadata": {},
   "outputs": [
    {
     "data": {
      "text/html": "<div>\n<style scoped>\n    .dataframe tbody tr th:only-of-type {\n        vertical-align: middle;\n    }\n\n    .dataframe tbody tr th {\n        vertical-align: top;\n    }\n\n    .dataframe thead th {\n        text-align: right;\n    }\n</style>\n<table border=\"1\" class=\"dataframe\">\n  <thead>\n    <tr style=\"text-align: right;\">\n      <th></th>\n      <th>id</th>\n      <th>carat</th>\n      <th>cut</th>\n      <th>color</th>\n      <th>clarity</th>\n      <th>depth</th>\n      <th>table</th>\n      <th>x</th>\n      <th>y</th>\n      <th>z</th>\n      <th>price</th>\n    </tr>\n  </thead>\n  <tbody>\n    <tr>\n      <th>12413</th>\n      <td>12413</td>\n      <td>5.01</td>\n      <td>Fair</td>\n      <td>J</td>\n      <td>I1</td>\n      <td>65.5</td>\n      <td>59.0</td>\n      <td>10.74</td>\n      <td>10.54</td>\n      <td>6.98</td>\n      <td>18018</td>\n    </tr>\n  </tbody>\n</table>\n</div>",
      "text/plain": "          id  carat   cut color clarity  depth  table      x      y     z  \\\n12413  12413   5.01  Fair     J      I1   65.5   59.0  10.74  10.54  6.98   \n\n       price  \n12413  18018  "
     },
     "execution_count": 252,
     "metadata": {},
     "output_type": "execute_result"
    }
   ],
   "source": [
    "df.loc[[df['carat'].idxmax()]]"
   ]
  },
  {
   "cell_type": "code",
   "execution_count": 253,
   "metadata": {},
   "outputs": [
    {
     "data": {
      "text/html": "<div>\n<style scoped>\n    .dataframe tbody tr th:only-of-type {\n        vertical-align: middle;\n    }\n\n    .dataframe tbody tr th {\n        vertical-align: top;\n    }\n\n    .dataframe thead th {\n        text-align: right;\n    }\n</style>\n<table border=\"1\" class=\"dataframe\">\n  <thead>\n    <tr style=\"text-align: right;\">\n      <th></th>\n      <th>id</th>\n      <th>carat</th>\n      <th>cut</th>\n      <th>color</th>\n      <th>clarity</th>\n      <th>depth</th>\n      <th>table</th>\n      <th>x</th>\n      <th>y</th>\n      <th>z</th>\n      <th>price</th>\n    </tr>\n  </thead>\n  <tbody>\n    <tr>\n      <th>2955</th>\n      <td>2955</td>\n      <td>0.2</td>\n      <td>Premium</td>\n      <td>F</td>\n      <td>VS2</td>\n      <td>62.6</td>\n      <td>59.0</td>\n      <td>3.73</td>\n      <td>3.71</td>\n      <td>2.33</td>\n      <td>367</td>\n    </tr>\n  </tbody>\n</table>\n</div>",
      "text/plain": "        id  carat      cut color clarity  depth  table     x     y     z  \\\n2955  2955    0.2  Premium     F     VS2   62.6   59.0  3.73  3.71  2.33   \n\n      price  \n2955    367  "
     },
     "execution_count": 253,
     "metadata": {},
     "output_type": "execute_result"
    }
   ],
   "source": [
    "df.loc[[df['carat'].idxmin()]]"
   ]
  },
  {
   "cell_type": "code",
   "execution_count": 254,
   "metadata": {},
   "outputs": [
    {
     "data": {
      "text/plain": "0.9223452134291695"
     },
     "execution_count": 254,
     "metadata": {},
     "output_type": "execute_result"
    }
   ],
   "source": [
    "df[\"carat\"].corr(df[\"price\"])"
   ]
  },
  {
   "cell_type": "markdown",
   "metadata": {},
   "source": [
    "Los quilates representan una feature clave respecto al precio."
   ]
  },
  {
   "cell_type": "markdown",
   "metadata": {},
   "source": [
    "**Análisis de categóricas**"
   ]
  },
  {
   "cell_type": "code",
   "execution_count": 255,
   "metadata": {},
   "outputs": [
    {
     "data": {
      "text/plain": "Ideal        16141\nPremium      10303\nVery Good     9068\nGood          3631\nFair          1202\nName: cut, dtype: int64"
     },
     "execution_count": 255,
     "metadata": {},
     "output_type": "execute_result"
    }
   ],
   "source": [
    "df[\"cut\"].value_counts()"
   ]
  },
  {
   "cell_type": "code",
   "execution_count": 256,
   "metadata": {},
   "outputs": [
    {
     "data": {
      "text/plain": "G    8462\nE    7292\nF    7133\nH    6200\nD    5094\nI    4094\nJ    2070\nName: color, dtype: int64"
     },
     "execution_count": 256,
     "metadata": {},
     "output_type": "execute_result"
    }
   ],
   "source": [
    "df[\"color\"].value_counts()"
   ]
  },
  {
   "cell_type": "markdown",
   "metadata": {},
   "source": [
    "## Borrado de columnas"
   ]
  },
  {
   "cell_type": "code",
   "execution_count": 257,
   "metadata": {},
   "outputs": [],
   "source": [
    "df.drop(columns=[\"table\",\"depth\",\"y\",\"z\"], axis=1, inplace=True)"
   ]
  },
  {
   "cell_type": "code",
   "execution_count": 258,
   "metadata": {},
   "outputs": [
    {
     "data": {
      "text/html": "<div>\n<style scoped>\n    .dataframe tbody tr th:only-of-type {\n        vertical-align: middle;\n    }\n\n    .dataframe tbody tr th {\n        vertical-align: top;\n    }\n\n    .dataframe thead th {\n        text-align: right;\n    }\n</style>\n<table border=\"1\" class=\"dataframe\">\n  <thead>\n    <tr style=\"text-align: right;\">\n      <th></th>\n      <th>id</th>\n      <th>carat</th>\n      <th>cut</th>\n      <th>color</th>\n      <th>clarity</th>\n      <th>x</th>\n      <th>price</th>\n    </tr>\n  </thead>\n  <tbody>\n    <tr>\n      <th>0</th>\n      <td>0</td>\n      <td>0.78</td>\n      <td>Premium</td>\n      <td>F</td>\n      <td>VS1</td>\n      <td>5.93</td>\n      <td>3446</td>\n    </tr>\n    <tr>\n      <th>1</th>\n      <td>1</td>\n      <td>0.31</td>\n      <td>Ideal</td>\n      <td>D</td>\n      <td>SI1</td>\n      <td>4.37</td>\n      <td>732</td>\n    </tr>\n    <tr>\n      <th>2</th>\n      <td>2</td>\n      <td>0.30</td>\n      <td>Ideal</td>\n      <td>F</td>\n      <td>SI1</td>\n      <td>4.30</td>\n      <td>475</td>\n    </tr>\n    <tr>\n      <th>3</th>\n      <td>3</td>\n      <td>1.04</td>\n      <td>Ideal</td>\n      <td>E</td>\n      <td>VVS2</td>\n      <td>6.54</td>\n      <td>9552</td>\n    </tr>\n    <tr>\n      <th>4</th>\n      <td>4</td>\n      <td>0.65</td>\n      <td>Ideal</td>\n      <td>J</td>\n      <td>SI1</td>\n      <td>5.58</td>\n      <td>1276</td>\n    </tr>\n  </tbody>\n</table>\n</div>",
      "text/plain": "   id  carat      cut color clarity     x  price\n0   0   0.78  Premium     F     VS1  5.93   3446\n1   1   0.31    Ideal     D     SI1  4.37    732\n2   2   0.30    Ideal     F     SI1  4.30    475\n3   3   1.04    Ideal     E    VVS2  6.54   9552\n4   4   0.65    Ideal     J     SI1  5.58   1276"
     },
     "execution_count": 258,
     "metadata": {},
     "output_type": "execute_result"
    }
   ],
   "source": [
    "df.head()"
   ]
  },
  {
   "cell_type": "code",
   "execution_count": 259,
   "metadata": {},
   "outputs": [
    {
     "data": {
      "text/plain": "array(['Premium', 'Ideal', 'Very Good', 'Fair', 'Good'], dtype=object)"
     },
     "execution_count": 259,
     "metadata": {},
     "output_type": "execute_result"
    }
   ],
   "source": [
    "df[\"cut\"].unique()"
   ]
  },
  {
   "cell_type": "code",
   "execution_count": 260,
   "metadata": {},
   "outputs": [
    {
     "data": {
      "text/html": "<div>\n<style scoped>\n    .dataframe tbody tr th:only-of-type {\n        vertical-align: middle;\n    }\n\n    .dataframe tbody tr th {\n        vertical-align: top;\n    }\n\n    .dataframe thead th {\n        text-align: right;\n    }\n</style>\n<table border=\"1\" class=\"dataframe\">\n  <thead>\n    <tr style=\"text-align: right;\">\n      <th></th>\n      <th>id</th>\n      <th>carat</th>\n      <th>cut</th>\n      <th>color</th>\n      <th>clarity</th>\n      <th>x</th>\n      <th>price</th>\n    </tr>\n  </thead>\n  <tbody>\n    <tr>\n      <th>0</th>\n      <td>0</td>\n      <td>0.78</td>\n      <td>1</td>\n      <td>F</td>\n      <td>VS1</td>\n      <td>5.93</td>\n      <td>3446</td>\n    </tr>\n    <tr>\n      <th>1</th>\n      <td>1</td>\n      <td>0.31</td>\n      <td>2</td>\n      <td>D</td>\n      <td>SI1</td>\n      <td>4.37</td>\n      <td>732</td>\n    </tr>\n    <tr>\n      <th>2</th>\n      <td>2</td>\n      <td>0.30</td>\n      <td>2</td>\n      <td>F</td>\n      <td>SI1</td>\n      <td>4.30</td>\n      <td>475</td>\n    </tr>\n    <tr>\n      <th>3</th>\n      <td>3</td>\n      <td>1.04</td>\n      <td>2</td>\n      <td>E</td>\n      <td>VVS2</td>\n      <td>6.54</td>\n      <td>9552</td>\n    </tr>\n    <tr>\n      <th>4</th>\n      <td>4</td>\n      <td>0.65</td>\n      <td>2</td>\n      <td>J</td>\n      <td>SI1</td>\n      <td>5.58</td>\n      <td>1276</td>\n    </tr>\n  </tbody>\n</table>\n</div>",
      "text/plain": "   id  carat  cut color clarity     x  price\n0   0   0.78    1     F     VS1  5.93   3446\n1   1   0.31    2     D     SI1  4.37    732\n2   2   0.30    2     F     SI1  4.30    475\n3   3   1.04    2     E    VVS2  6.54   9552\n4   4   0.65    2     J     SI1  5.58   1276"
     },
     "execution_count": 260,
     "metadata": {},
     "output_type": "execute_result"
    }
   ],
   "source": [
    "df = df.replace(\"Premium\", 1).replace(\"Ideal\", 2).replace(\"Very Good\", 3).replace(\"Very Good\", 4).replace(\"Fair\", 5).replace(\"Good\", 6)\n",
    "\n",
    "df.head()"
   ]
  },
  {
   "cell_type": "code",
   "execution_count": 261,
   "metadata": {},
   "outputs": [
    {
     "data": {
      "text/plain": "array(['F', 'D', 'E', 'J', 'H', 'I', 'G'], dtype=object)"
     },
     "execution_count": 261,
     "metadata": {},
     "output_type": "execute_result"
    }
   ],
   "source": [
    "df[\"color\"].unique()"
   ]
  },
  {
   "cell_type": "code",
   "execution_count": 262,
   "metadata": {},
   "outputs": [],
   "source": [
    "df = df.replace(\"D\", 1).replace(\"E\", 2).replace(\"F\", 3).replace(\"G\", 4).replace(\"H\", 5).replace(\"I\", 6).replace(\"J\", 7)"
   ]
  },
  {
   "cell_type": "code",
   "execution_count": 263,
   "metadata": {},
   "outputs": [
    {
     "data": {
      "text/html": "<div>\n<style scoped>\n    .dataframe tbody tr th:only-of-type {\n        vertical-align: middle;\n    }\n\n    .dataframe tbody tr th {\n        vertical-align: top;\n    }\n\n    .dataframe thead th {\n        text-align: right;\n    }\n</style>\n<table border=\"1\" class=\"dataframe\">\n  <thead>\n    <tr style=\"text-align: right;\">\n      <th></th>\n      <th>id</th>\n      <th>carat</th>\n      <th>cut</th>\n      <th>color</th>\n      <th>clarity</th>\n      <th>x</th>\n      <th>price</th>\n    </tr>\n  </thead>\n  <tbody>\n    <tr>\n      <th>0</th>\n      <td>0</td>\n      <td>0.78</td>\n      <td>1</td>\n      <td>3</td>\n      <td>4</td>\n      <td>5.93</td>\n      <td>3446</td>\n    </tr>\n    <tr>\n      <th>1</th>\n      <td>1</td>\n      <td>0.31</td>\n      <td>2</td>\n      <td>1</td>\n      <td>6</td>\n      <td>4.37</td>\n      <td>732</td>\n    </tr>\n    <tr>\n      <th>2</th>\n      <td>2</td>\n      <td>0.30</td>\n      <td>2</td>\n      <td>3</td>\n      <td>6</td>\n      <td>4.30</td>\n      <td>475</td>\n    </tr>\n    <tr>\n      <th>3</th>\n      <td>3</td>\n      <td>1.04</td>\n      <td>2</td>\n      <td>2</td>\n      <td>3</td>\n      <td>6.54</td>\n      <td>9552</td>\n    </tr>\n    <tr>\n      <th>4</th>\n      <td>4</td>\n      <td>0.65</td>\n      <td>2</td>\n      <td>7</td>\n      <td>6</td>\n      <td>5.58</td>\n      <td>1276</td>\n    </tr>\n  </tbody>\n</table>\n</div>",
      "text/plain": "   id  carat  cut  color  clarity     x  price\n0   0   0.78    1      3        4  5.93   3446\n1   1   0.31    2      1        6  4.37    732\n2   2   0.30    2      3        6  4.30    475\n3   3   1.04    2      2        3  6.54   9552\n4   4   0.65    2      7        6  5.58   1276"
     },
     "execution_count": 263,
     "metadata": {},
     "output_type": "execute_result"
    }
   ],
   "source": [
    "df = df.replace(\"IF\", 1).replace(\"VVS1\", 2).replace(\"VVS2\", 3).replace(\"VS1\", 4).replace(\"VS2\", 5).replace(\"SI1\", 6).replace(\"SI2\", 7).replace(\"I1\", 8)\n",
    "\n",
    "df.head()\n"
   ]
  },
  {
   "cell_type": "code",
   "execution_count": 281,
   "metadata": {},
   "outputs": [
    {
     "data": {
      "text/html": "<div>\n<style scoped>\n    .dataframe tbody tr th:only-of-type {\n        vertical-align: middle;\n    }\n\n    .dataframe tbody tr th {\n        vertical-align: top;\n    }\n\n    .dataframe thead th {\n        text-align: right;\n    }\n</style>\n<table border=\"1\" class=\"dataframe\">\n  <thead>\n    <tr style=\"text-align: right;\">\n      <th></th>\n      <th>id</th>\n      <th>carat</th>\n      <th>cut</th>\n      <th>color</th>\n      <th>clarity</th>\n      <th>x</th>\n      <th>price</th>\n    </tr>\n  </thead>\n  <tbody>\n    <tr>\n      <th>0</th>\n      <td>0</td>\n      <td>0.78</td>\n      <td>1</td>\n      <td>3</td>\n      <td>4</td>\n      <td>5.93</td>\n      <td>3446</td>\n    </tr>\n    <tr>\n      <th>1</th>\n      <td>1</td>\n      <td>0.31</td>\n      <td>2</td>\n      <td>1</td>\n      <td>6</td>\n      <td>4.37</td>\n      <td>732</td>\n    </tr>\n    <tr>\n      <th>2</th>\n      <td>2</td>\n      <td>0.30</td>\n      <td>2</td>\n      <td>3</td>\n      <td>6</td>\n      <td>4.30</td>\n      <td>475</td>\n    </tr>\n    <tr>\n      <th>3</th>\n      <td>3</td>\n      <td>1.04</td>\n      <td>2</td>\n      <td>2</td>\n      <td>3</td>\n      <td>6.54</td>\n      <td>9552</td>\n    </tr>\n    <tr>\n      <th>4</th>\n      <td>4</td>\n      <td>0.65</td>\n      <td>2</td>\n      <td>7</td>\n      <td>6</td>\n      <td>5.58</td>\n      <td>1276</td>\n    </tr>\n  </tbody>\n</table>\n</div>",
      "text/plain": "   id  carat  cut  color  clarity     x  price\n0   0   0.78    1      3        4  5.93   3446\n1   1   0.31    2      1        6  4.37    732\n2   2   0.30    2      3        6  4.30    475\n3   3   1.04    2      2        3  6.54   9552\n4   4   0.65    2      7        6  5.58   1276"
     },
     "execution_count": 281,
     "metadata": {},
     "output_type": "execute_result"
    }
   ],
   "source": [
    "df.head()"
   ]
  },
  {
   "cell_type": "code",
   "execution_count": 283,
   "metadata": {},
   "outputs": [
    {
     "data": {
      "text/plain": "id           int64\ncarat      float64\ncut          int64\ncolor        int64\nclarity      int64\nx          float64\nprice        int64\ndtype: object"
     },
     "execution_count": 283,
     "metadata": {},
     "output_type": "execute_result"
    }
   ],
   "source": [
    "df.dtypes"
   ]
  },
  {
   "cell_type": "markdown",
   "metadata": {},
   "source": [
    "## Pipeline"
   ]
  },
  {
   "cell_type": "code",
   "execution_count": 265,
   "metadata": {},
   "outputs": [],
   "source": [
    "# pipeline = [\n",
    "#     StandardScaler(),\n",
    "#     Normalizer(),\n",
    "# ]"
   ]
  },
  {
   "cell_type": "code",
   "execution_count": 266,
   "metadata": {},
   "outputs": [],
   "source": [
    "# tr = make_pipeline(*pipeline)"
   ]
  },
  {
   "cell_type": "code",
   "execution_count": 267,
   "metadata": {},
   "outputs": [],
   "source": [
    "# Xpr = tr.fit_transform(df)\n",
    "# Xpr = pd.DataFrame(Xpr,columns=df.columns)"
   ]
  },
  {
   "cell_type": "code",
   "execution_count": 268,
   "metadata": {},
   "outputs": [],
   "source": [
    "# Xpr.head()"
   ]
  },
  {
   "cell_type": "markdown",
   "metadata": {},
   "source": [
    "## Aplicar modelo"
   ]
  },
  {
   "cell_type": "code",
   "execution_count": 282,
   "metadata": {},
   "outputs": [],
   "source": [
    "\n",
    "X_train, X_test, y_train, y_test = train_test_split(df.drop(columns=[\"price\",\"id\"],axis=1), df[\"price\"], test_size=0.2)"
   ]
  },
  {
   "cell_type": "code",
   "execution_count": 270,
   "metadata": {},
   "outputs": [],
   "source": [
    "# models = {\n",
    "#     \"svm-linear\": CalibratedClassifierCV(LinearSVC(),cv=3),\n",
    "#     \"svm-rbf\": CalibratedClassifierCV(SVC(kernel=\"sigmoid\",gamma=\"auto\"),cv=3),\n",
    "#     \"randomforest\": RandomForestClassifier(n_estimators=100)\n",
    "# }\n",
    "\n",
    "# for name,m  in models.items():\n",
    "#     print(f\"Training {name}...\")\n",
    "#     m.fit(X_train, y_train)\n",
    "# print(\"Train complete\")"
   ]
  },
  {
   "cell_type": "code",
   "execution_count": 271,
   "metadata": {},
   "outputs": [],
   "source": [
    "# model = SVR(kernel=\"rbf\")\n",
    "# model.fit(X_train, y_train)"
   ]
  },
  {
   "cell_type": "code",
   "execution_count": 272,
   "metadata": {},
   "outputs": [],
   "source": [
    "# y_pred = model.predict(X_test)"
   ]
  },
  {
   "cell_type": "code",
   "execution_count": 273,
   "metadata": {},
   "outputs": [],
   "source": [
    "# print(\"MSE\", mean_squared_error(y_test,y_pred))\n",
    "# print(\"RMSE\", np.sqrt(mean_squared_error(y_test,y_pred)))"
   ]
  },
  {
   "cell_type": "code",
   "execution_count": 274,
   "metadata": {},
   "outputs": [],
   "source": [
    "# y_pred"
   ]
  },
  {
   "cell_type": "code",
   "execution_count": 289,
   "metadata": {},
   "outputs": [],
   "source": [
    "model = RandomForestClassifier(n_estimators=40, max_depth=40, min_samples_leaf=20)\n"
   ]
  },
  {
   "cell_type": "code",
   "execution_count": 290,
   "metadata": {},
   "outputs": [
    {
     "data": {
      "text/plain": "RandomForestClassifier(bootstrap=True, ccp_alpha=0.0, class_weight=None,\n                       criterion='gini', max_depth=40, max_features='auto',\n                       max_leaf_nodes=None, max_samples=None,\n                       min_impurity_decrease=0.0, min_impurity_split=None,\n                       min_samples_leaf=20, min_samples_split=2,\n                       min_weight_fraction_leaf=0.0, n_estimators=40,\n                       n_jobs=None, oob_score=False, random_state=None,\n                       verbose=0, warm_start=False)"
     },
     "execution_count": 290,
     "metadata": {},
     "output_type": "execute_result"
    }
   ],
   "source": [
    "model.fit(X_train, y_train)\n"
   ]
  },
  {
   "cell_type": "code",
   "execution_count": 291,
   "metadata": {},
   "outputs": [],
   "source": [
    "y_pred = model.predict(X_test)"
   ]
  },
  {
   "cell_type": "code",
   "execution_count": 288,
   "metadata": {},
   "outputs": [
    {
     "name": "stdout",
     "output_type": "stream",
     "text": "MSE 655019.5892923535\nRMSE 809.3328050266797\n"
    }
   ],
   "source": [
    "print(\"MSE\", mean_squared_error(y_test,y_pred))\n",
    "print(\"RMSE\", np.sqrt(mean_squared_error(y_test,y_pred)))"
   ]
  },
  {
   "cell_type": "code",
   "execution_count": null,
   "metadata": {},
   "outputs": [],
   "source": []
  }
 ]
}