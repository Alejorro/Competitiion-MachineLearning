{
 "nbformat": 4,
 "nbformat_minor": 2,
 "metadata": {
  "language_info": {
   "name": "python",
   "codemirror_mode": {
    "name": "ipython",
    "version": 3
   },
   "version": "3.6.9-final"
  },
  "orig_nbformat": 2,
  "file_extension": ".py",
  "mimetype": "text/x-python",
  "name": "python",
  "npconvert_exporter": "python",
  "pygments_lexer": "ipython3",
  "version": 3,
  "kernelspec": {
   "name": "python36964bit393d81eb15b54b0093ea31921d80c86d",
   "display_name": "Python 3.6.9 64-bit"
  }
 },
 "cells": [
  {
   "cell_type": "markdown",
   "metadata": {},
   "source": [
    "## Importar Liberías"
   ]
  },
  {
   "cell_type": "markdown",
   "metadata": {},
   "source": [
    "**Librerías básicas**"
   ]
  },
  {
   "cell_type": "code",
   "execution_count": 85,
   "metadata": {},
   "outputs": [],
   "source": [
    "import pandas as pd"
   ]
  },
  {
   "cell_type": "markdown",
   "metadata": {},
   "source": [
    "**Módulos locales**"
   ]
  },
  {
   "cell_type": "code",
   "execution_count": 86,
   "metadata": {},
   "outputs": [],
   "source": [
    "from Src.cleaner import *\n",
    "from Src.featureSelection import *"
   ]
  },
  {
   "cell_type": "markdown",
   "metadata": {},
   "source": [
    "**Librerías de apoyo**"
   ]
  },
  {
   "cell_type": "code",
   "execution_count": 87,
   "metadata": {},
   "outputs": [],
   "source": [
    "from sklearn.base import BaseEstimator, TransformerMixin\n",
    "from sklearn.preprocessing import StandardScaler, Normalizer\n",
    "from sklearn.pipeline import make_pipeline"
   ]
  },
  {
   "cell_type": "markdown",
   "metadata": {},
   "source": [
    "**Librerías de Machine Learning**"
   ]
  },
  {
   "cell_type": "code",
   "execution_count": 88,
   "metadata": {},
   "outputs": [
    {
     "name": "stdout",
     "output_type": "stream",
     "text": "Checking whether there is an H2O instance running at http://localhost:54321..... not found.\nAttempting to start a local H2O server...\n  Java Version: openjdk version \"11.0.6\" 2020-01-14; OpenJDK Runtime Environment (build 11.0.6+10-post-Ubuntu-1ubuntu118.04.1); OpenJDK 64-Bit Server VM (build 11.0.6+10-post-Ubuntu-1ubuntu118.04.1, mixed mode, sharing)\n  Starting server from /home/alex/.local/lib/python3.6/site-packages/h2o/backend/bin/h2o.jar\n  Ice root: /tmp/tmprwxzuysy\n  JVM stdout: /tmp/tmprwxzuysy/h2o_alex_started_from_python.out\n  JVM stderr: /tmp/tmprwxzuysy/h2o_alex_started_from_python.err\n  Server is running at http://127.0.0.1:54321\nConnecting to H2O server at http://127.0.0.1:54321 ... successful.\n"
    },
    {
     "data": {
      "text/html": "<div style=\"overflow:auto\"><table style=\"width:50%\"><tr><td>H2O cluster uptime:</td>\n<td>01 secs</td></tr>\n<tr><td>H2O cluster timezone:</td>\n<td>Europe/Madrid</td></tr>\n<tr><td>H2O data parsing timezone:</td>\n<td>UTC</td></tr>\n<tr><td>H2O cluster version:</td>\n<td>3.28.0.3</td></tr>\n<tr><td>H2O cluster version age:</td>\n<td>25 days </td></tr>\n<tr><td>H2O cluster name:</td>\n<td>H2O_from_python_alex_vpln75</td></tr>\n<tr><td>H2O cluster total nodes:</td>\n<td>1</td></tr>\n<tr><td>H2O cluster free memory:</td>\n<td>8 Gb</td></tr>\n<tr><td>H2O cluster total cores:</td>\n<td>8</td></tr>\n<tr><td>H2O cluster allowed cores:</td>\n<td>8</td></tr>\n<tr><td>H2O cluster status:</td>\n<td>accepting new members, healthy</td></tr>\n<tr><td>H2O connection url:</td>\n<td>http://127.0.0.1:54321</td></tr>\n<tr><td>H2O connection proxy:</td>\n<td>{'http': None, 'https': None}</td></tr>\n<tr><td>H2O internal security:</td>\n<td>False</td></tr>\n<tr><td>H2O API Extensions:</td>\n<td>Amazon S3, XGBoost, Algos, AutoML, Core V3, TargetEncoder, Core V4</td></tr>\n<tr><td>Python version:</td>\n<td>3.6.9 final</td></tr></table></div>",
      "text/plain": "--------------------------  ------------------------------------------------------------------\nH2O cluster uptime:         01 secs\nH2O cluster timezone:       Europe/Madrid\nH2O data parsing timezone:  UTC\nH2O cluster version:        3.28.0.3\nH2O cluster version age:    25 days\nH2O cluster name:           H2O_from_python_alex_vpln75\nH2O cluster total nodes:    1\nH2O cluster free memory:    8 Gb\nH2O cluster total cores:    8\nH2O cluster allowed cores:  8\nH2O cluster status:         accepting new members, healthy\nH2O connection url:         http://127.0.0.1:54321\nH2O connection proxy:       {'http': None, 'https': None}\nH2O internal security:      False\nH2O API Extensions:         Amazon S3, XGBoost, Algos, AutoML, Core V3, TargetEncoder, Core V4\nPython version:             3.6.9 final\n--------------------------  ------------------------------------------------------------------"
     },
     "metadata": {},
     "output_type": "display_data"
    }
   ],
   "source": [
    "import h2o\n",
    "h2o.init(nthreads = -1, max_mem_size = 8)\n",
    "\n",
    "from h2o.automl import H2OAutoML\n",
    "\n",
    "from h2o.estimators.random_forest import H2ORandomForestEstimator\n",
    "from h2o.estimators.gbm import H2OGradientBoostingEstimator\n",
    "from h2o.estimators.deeplearning import H2ODeepLearningEstimator"
   ]
  },
  {
   "cell_type": "markdown",
   "metadata": {},
   "source": [
    "## Limpieza de datos"
   ]
  },
  {
   "cell_type": "code",
   "execution_count": 89,
   "metadata": {},
   "outputs": [],
   "source": [
    "df = pd.read_csv(\"Inputs/diamonds_train.csv\")"
   ]
  },
  {
   "cell_type": "code",
   "execution_count": 90,
   "metadata": {},
   "outputs": [
    {
     "data": {
      "text/html": "<div>\n<style scoped>\n    .dataframe tbody tr th:only-of-type {\n        vertical-align: middle;\n    }\n\n    .dataframe tbody tr th {\n        vertical-align: top;\n    }\n\n    .dataframe thead th {\n        text-align: right;\n    }\n</style>\n<table border=\"1\" class=\"dataframe\">\n  <thead>\n    <tr style=\"text-align: right;\">\n      <th></th>\n      <th>id</th>\n      <th>carat</th>\n      <th>cut</th>\n      <th>color</th>\n      <th>clarity</th>\n      <th>depth</th>\n      <th>table</th>\n      <th>x</th>\n      <th>y</th>\n      <th>z</th>\n      <th>price</th>\n    </tr>\n  </thead>\n  <tbody>\n    <tr>\n      <th>0</th>\n      <td>0</td>\n      <td>0.78</td>\n      <td>Premium</td>\n      <td>F</td>\n      <td>VS1</td>\n      <td>61.5</td>\n      <td>58.0</td>\n      <td>5.93</td>\n      <td>5.98</td>\n      <td>3.66</td>\n      <td>3446</td>\n    </tr>\n    <tr>\n      <th>1</th>\n      <td>1</td>\n      <td>0.31</td>\n      <td>Ideal</td>\n      <td>D</td>\n      <td>SI1</td>\n      <td>60.8</td>\n      <td>56.0</td>\n      <td>4.37</td>\n      <td>4.32</td>\n      <td>2.64</td>\n      <td>732</td>\n    </tr>\n    <tr>\n      <th>2</th>\n      <td>2</td>\n      <td>0.30</td>\n      <td>Ideal</td>\n      <td>F</td>\n      <td>SI1</td>\n      <td>62.3</td>\n      <td>54.0</td>\n      <td>4.30</td>\n      <td>4.34</td>\n      <td>2.69</td>\n      <td>475</td>\n    </tr>\n  </tbody>\n</table>\n</div>",
      "text/plain": "   id  carat      cut color clarity  depth  table     x     y     z  price\n0   0   0.78  Premium     F     VS1   61.5   58.0  5.93  5.98  3.66   3446\n1   1   0.31    Ideal     D     SI1   60.8   56.0  4.37  4.32  2.64    732\n2   2   0.30    Ideal     F     SI1   62.3   54.0  4.30  4.34  2.69    475"
     },
     "execution_count": 90,
     "metadata": {},
     "output_type": "execute_result"
    }
   ],
   "source": [
    "df.head(3)"
   ]
  },
  {
   "cell_type": "code",
   "execution_count": 91,
   "metadata": {},
   "outputs": [],
   "source": [
    "class cleanDiamonds(TransformerMixin):\n",
    "    def __init__(self):\n",
    "        self.features =[\"price\", \"carat\",\"table\",\"depth\",\"y\",\"z\",\"cut\",\"color\",\"clarity\",\"x\"]\n",
    "    \n",
    "    def fit(self, df):\n",
    "        #Iniciamos limpieza\n",
    "        X = df[self.features]\n",
    "        X.drop(columns=[\"table\",\"depth\",\"x\",\"z\"], axis=1, inplace=True)\n",
    "        X[\"cut\"] = X[\"cut\"].replace(\"Premium\", 1).replace(\"Ideal\", 2).replace(\"Very Good\", 3).replace(\"Very Good\", 4).replace(\"Fair\", 5).replace(\"Good\", 6)\n",
    "        X[\"color\"] = X[\"color\"].replace(\"D\", 1).replace(\"E\", 2).replace(\"F\", 3).replace(\"G\", 4).replace(\"H\", 5).replace(\"I\", 6).replace(\"J\", 7)\n",
    "        X[\"clarity\"] = X[\"clarity\"].replace(\"IF\", 1).replace(\"VVS1\", 2).replace(\"VVS2\", 3).replace(\"VS1\", 4).replace(\"VS2\", 5).replace(\"SI1\", 6).replace(\"SI2\", 7).replace(\"I1\", 8)\n",
    "        self.cols = self.X.columns\n",
    "        return self\n",
    "    \n",
    "    def transform(self, X):\n",
    "        return self.X"
   ]
  },
  {
   "cell_type": "code",
   "execution_count": 92,
   "metadata": {},
   "outputs": [],
   "source": [
    "cleaner = cleanDiamonds()\n",
    "pipe = make_pipeline(*[\n",
    "    cleaner,\n",
    "    #StandardScaler(),\n",
    "    #Normalizer(),\n",
    "])"
   ]
  },
  {
   "cell_type": "code",
   "execution_count": 93,
   "metadata": {},
   "outputs": [
    {
     "data": {
      "text/html": "<div>\n<style scoped>\n    .dataframe tbody tr th:only-of-type {\n        vertical-align: middle;\n    }\n\n    .dataframe tbody tr th {\n        vertical-align: top;\n    }\n\n    .dataframe thead th {\n        text-align: right;\n    }\n</style>\n<table border=\"1\" class=\"dataframe\">\n  <thead>\n    <tr style=\"text-align: right;\">\n      <th></th>\n      <th>price</th>\n      <th>carat</th>\n      <th>table</th>\n      <th>depth</th>\n      <th>y</th>\n      <th>z</th>\n      <th>x</th>\n      <th>cut_Fair</th>\n      <th>cut_Good</th>\n      <th>cut_Ideal</th>\n      <th>cut_Premium</th>\n      <th>cut_Very Good</th>\n      <th>color_D</th>\n      <th>color_E</th>\n      <th>color_F</th>\n      <th>color_G</th>\n      <th>color_H</th>\n      <th>color_I</th>\n      <th>color_J</th>\n      <th>clarity_I1</th>\n      <th>clarity_IF</th>\n      <th>clarity_SI1</th>\n      <th>clarity_SI2</th>\n      <th>clarity_VS1</th>\n      <th>clarity_VS2</th>\n      <th>clarity_VVS1</th>\n      <th>clarity_VVS2</th>\n    </tr>\n  </thead>\n  <tbody>\n    <tr>\n      <th>0</th>\n      <td>3446</td>\n      <td>0.78</td>\n      <td>58.0</td>\n      <td>61.5</td>\n      <td>5.98</td>\n      <td>3.66</td>\n      <td>5.93</td>\n      <td>0</td>\n      <td>0</td>\n      <td>0</td>\n      <td>1</td>\n      <td>0</td>\n      <td>0</td>\n      <td>0</td>\n      <td>1</td>\n      <td>0</td>\n      <td>0</td>\n      <td>0</td>\n      <td>0</td>\n      <td>0</td>\n      <td>0</td>\n      <td>0</td>\n      <td>0</td>\n      <td>1</td>\n      <td>0</td>\n      <td>0</td>\n      <td>0</td>\n    </tr>\n    <tr>\n      <th>1</th>\n      <td>732</td>\n      <td>0.31</td>\n      <td>56.0</td>\n      <td>60.8</td>\n      <td>4.32</td>\n      <td>2.64</td>\n      <td>4.37</td>\n      <td>0</td>\n      <td>0</td>\n      <td>1</td>\n      <td>0</td>\n      <td>0</td>\n      <td>1</td>\n      <td>0</td>\n      <td>0</td>\n      <td>0</td>\n      <td>0</td>\n      <td>0</td>\n      <td>0</td>\n      <td>0</td>\n      <td>0</td>\n      <td>1</td>\n      <td>0</td>\n      <td>0</td>\n      <td>0</td>\n      <td>0</td>\n      <td>0</td>\n    </tr>\n    <tr>\n      <th>2</th>\n      <td>475</td>\n      <td>0.30</td>\n      <td>54.0</td>\n      <td>62.3</td>\n      <td>4.34</td>\n      <td>2.69</td>\n      <td>4.30</td>\n      <td>0</td>\n      <td>0</td>\n      <td>1</td>\n      <td>0</td>\n      <td>0</td>\n      <td>0</td>\n      <td>0</td>\n      <td>1</td>\n      <td>0</td>\n      <td>0</td>\n      <td>0</td>\n      <td>0</td>\n      <td>0</td>\n      <td>0</td>\n      <td>1</td>\n      <td>0</td>\n      <td>0</td>\n      <td>0</td>\n      <td>0</td>\n      <td>0</td>\n    </tr>\n  </tbody>\n</table>\n</div>",
      "text/plain": "   price  carat  table  depth     y     z     x  cut_Fair  cut_Good  \\\n0   3446   0.78   58.0   61.5  5.98  3.66  5.93         0         0   \n1    732   0.31   56.0   60.8  4.32  2.64  4.37         0         0   \n2    475   0.30   54.0   62.3  4.34  2.69  4.30         0         0   \n\n   cut_Ideal  cut_Premium  cut_Very Good  color_D  color_E  color_F  color_G  \\\n0          0            1              0        0        0        1        0   \n1          1            0              0        1        0        0        0   \n2          1            0              0        0        0        1        0   \n\n   color_H  color_I  color_J  clarity_I1  clarity_IF  clarity_SI1  \\\n0        0        0        0           0           0            0   \n1        0        0        0           0           0            1   \n2        0        0        0           0           0            1   \n\n   clarity_SI2  clarity_VS1  clarity_VS2  clarity_VVS1  clarity_VVS2  \n0            0            1            0             0             0  \n1            0            0            0             0             0  \n2            0            0            0             0             0  "
     },
     "execution_count": 93,
     "metadata": {},
     "output_type": "execute_result"
    }
   ],
   "source": [
    "X = pipe.fit_transform(df)\n",
    "X= pd.DataFrame(X, columns=cleaner.cols)\n",
    "pd.options.display.max_columns =28\n",
    "X.head(3)"
   ]
  },
  {
   "cell_type": "code",
   "execution_count": 94,
   "metadata": {},
   "outputs": [],
   "source": [
    "df_export = X.copy()\n",
    "df_export.to_csv(\"Outputs/diamonds_cleaned(V1).csv\", index=False)\n"
   ]
  },
  {
   "cell_type": "markdown",
   "metadata": {},
   "source": [
    "## Transformación de dataset"
   ]
  },
  {
   "cell_type": "code",
   "execution_count": 95,
   "metadata": {},
   "outputs": [
    {
     "name": "stdout",
     "output_type": "stream",
     "text": "Parse progress: |█████████████████████████████████████████████████████████| 100%\n"
    }
   ],
   "source": [
    "loan_csv = \"Outputs/diamonds_cleaned(V1).csv\"\n",
    "\n",
    "data = h2o.import_file(loan_csv) "
   ]
  },
  {
   "cell_type": "code",
   "execution_count": 96,
   "metadata": {},
   "outputs": [
    {
     "data": {
      "text/plain": "(40345, 27)"
     },
     "execution_count": 96,
     "metadata": {},
     "output_type": "execute_result"
    }
   ],
   "source": [
    "data.shape"
   ]
  },
  {
   "cell_type": "code",
   "execution_count": 97,
   "metadata": {},
   "outputs": [
    {
     "data": {
      "text/html": "<table>\n<thead>\n<tr><th style=\"text-align: right;\">  price</th><th style=\"text-align: right;\">  carat</th><th style=\"text-align: right;\">  table</th><th style=\"text-align: right;\">  depth</th><th style=\"text-align: right;\">   y</th><th style=\"text-align: right;\">   z</th><th style=\"text-align: right;\">   x</th><th style=\"text-align: right;\">  cut_Fair</th><th style=\"text-align: right;\">  cut_Good</th><th style=\"text-align: right;\">  cut_Ideal</th><th style=\"text-align: right;\">  cut_Premium</th><th style=\"text-align: right;\">  cut_Very Good</th><th style=\"text-align: right;\">  color_D</th><th style=\"text-align: right;\">  color_E</th><th style=\"text-align: right;\">  color_F</th><th style=\"text-align: right;\">  color_G</th><th style=\"text-align: right;\">  color_H</th><th style=\"text-align: right;\">  color_I</th><th style=\"text-align: right;\">  color_J</th><th style=\"text-align: right;\">  clarity_I1</th><th style=\"text-align: right;\">  clarity_IF</th><th style=\"text-align: right;\">  clarity_SI1</th><th style=\"text-align: right;\">  clarity_SI2</th><th style=\"text-align: right;\">  clarity_VS1</th><th style=\"text-align: right;\">  clarity_VS2</th><th style=\"text-align: right;\">  clarity_VVS1</th><th style=\"text-align: right;\">  clarity_VVS2</th></tr>\n</thead>\n<tbody>\n<tr><td style=\"text-align: right;\">   3446</td><td style=\"text-align: right;\">   0.78</td><td style=\"text-align: right;\">     58</td><td style=\"text-align: right;\">   61.5</td><td style=\"text-align: right;\">5.98</td><td style=\"text-align: right;\">3.66</td><td style=\"text-align: right;\">5.93</td><td style=\"text-align: right;\">         0</td><td style=\"text-align: right;\">         0</td><td style=\"text-align: right;\">          0</td><td style=\"text-align: right;\">            1</td><td style=\"text-align: right;\">              0</td><td style=\"text-align: right;\">        0</td><td style=\"text-align: right;\">        0</td><td style=\"text-align: right;\">        1</td><td style=\"text-align: right;\">        0</td><td style=\"text-align: right;\">        0</td><td style=\"text-align: right;\">        0</td><td style=\"text-align: right;\">        0</td><td style=\"text-align: right;\">           0</td><td style=\"text-align: right;\">           0</td><td style=\"text-align: right;\">            0</td><td style=\"text-align: right;\">            0</td><td style=\"text-align: right;\">            1</td><td style=\"text-align: right;\">            0</td><td style=\"text-align: right;\">             0</td><td style=\"text-align: right;\">             0</td></tr>\n<tr><td style=\"text-align: right;\">    732</td><td style=\"text-align: right;\">   0.31</td><td style=\"text-align: right;\">     56</td><td style=\"text-align: right;\">   60.8</td><td style=\"text-align: right;\">4.32</td><td style=\"text-align: right;\">2.64</td><td style=\"text-align: right;\">4.37</td><td style=\"text-align: right;\">         0</td><td style=\"text-align: right;\">         0</td><td style=\"text-align: right;\">          1</td><td style=\"text-align: right;\">            0</td><td style=\"text-align: right;\">              0</td><td style=\"text-align: right;\">        1</td><td style=\"text-align: right;\">        0</td><td style=\"text-align: right;\">        0</td><td style=\"text-align: right;\">        0</td><td style=\"text-align: right;\">        0</td><td style=\"text-align: right;\">        0</td><td style=\"text-align: right;\">        0</td><td style=\"text-align: right;\">           0</td><td style=\"text-align: right;\">           0</td><td style=\"text-align: right;\">            1</td><td style=\"text-align: right;\">            0</td><td style=\"text-align: right;\">            0</td><td style=\"text-align: right;\">            0</td><td style=\"text-align: right;\">             0</td><td style=\"text-align: right;\">             0</td></tr>\n<tr><td style=\"text-align: right;\">    475</td><td style=\"text-align: right;\">   0.3 </td><td style=\"text-align: right;\">     54</td><td style=\"text-align: right;\">   62.3</td><td style=\"text-align: right;\">4.34</td><td style=\"text-align: right;\">2.69</td><td style=\"text-align: right;\">4.3 </td><td style=\"text-align: right;\">         0</td><td style=\"text-align: right;\">         0</td><td style=\"text-align: right;\">          1</td><td style=\"text-align: right;\">            0</td><td style=\"text-align: right;\">              0</td><td style=\"text-align: right;\">        0</td><td style=\"text-align: right;\">        0</td><td style=\"text-align: right;\">        1</td><td style=\"text-align: right;\">        0</td><td style=\"text-align: right;\">        0</td><td style=\"text-align: right;\">        0</td><td style=\"text-align: right;\">        0</td><td style=\"text-align: right;\">           0</td><td style=\"text-align: right;\">           0</td><td style=\"text-align: right;\">            1</td><td style=\"text-align: right;\">            0</td><td style=\"text-align: right;\">            0</td><td style=\"text-align: right;\">            0</td><td style=\"text-align: right;\">             0</td><td style=\"text-align: right;\">             0</td></tr>\n</tbody>\n</table>"
     },
     "metadata": {},
     "output_type": "display_data"
    },
    {
     "data": {
      "text/plain": ""
     },
     "execution_count": 97,
     "metadata": {},
     "output_type": "execute_result"
    }
   ],
   "source": [
    "data.head(3)"
   ]
  },
  {
   "cell_type": "markdown",
   "metadata": {},
   "source": [
    "## Partición de los datos"
   ]
  },
  {
   "cell_type": "code",
   "execution_count": null,
   "metadata": {},
   "outputs": [],
   "source": [
    "splits = data.split_frame(ratios=[0.7, 0.15], seed=1)  \n",
    "\n",
    "train = splits[0]\n",
    "valid = splits[1]\n",
    "test = splits[2]"
   ]
  },
  {
   "cell_type": "code",
   "execution_count": null,
   "metadata": {},
   "outputs": [],
   "source": [
    "print(train.nrow)\n",
    "print(valid.nrow)\n",
    "print(test.nrow)"
   ]
  },
  {
   "cell_type": "markdown",
   "metadata": {},
   "source": [
    "## Extracción de Features"
   ]
  },
  {
   "cell_type": "code",
   "execution_count": null,
   "metadata": {},
   "outputs": [],
   "source": [
    "y = 'price'\n",
    "x = list(data.columns)\n",
    "\n",
    "x.remove(y)"
   ]
  },
  {
   "cell_type": "code",
   "execution_count": null,
   "metadata": {},
   "outputs": [],
   "source": [
    "x"
   ]
  },
  {
   "cell_type": "markdown",
   "metadata": {},
   "source": [
    "## Machine Learning!!"
   ]
  },
  {
   "cell_type": "code",
   "execution_count": null,
   "metadata": {},
   "outputs": [],
   "source": [
    "# rf_fit1 = H2ODeepLearningEstimator(model_id='rf_fit1', seed=1)\n",
    "# rf_fit1.train(x=x, y=y, training_frame=train)\n"
   ]
  },
  {
   "cell_type": "code",
   "execution_count": null,
   "metadata": {},
   "outputs": [],
   "source": [
    "# gbm_fit3 = H2OGradientBoostingEstimator(model_id='gbm_fit3', \n",
    "                                        # ntrees=500, \n",
    "                                        # score_tree_interval=5,     #used for early stopping\n",
    "                                        # stopping_rounds=3,         #used for early stopping\n",
    "                                        # stopping_metric='AUC',     #used for early stopping\n",
    "                                        # stopping_tolerance=0.0005, #used for early stopping\n",
    "                                        # seed=1)\n",
    "# gbm_fit3.train(x=x, y=y, training_frame=train, validation_frame=valid)"
   ]
  },
  {
   "cell_type": "code",
   "execution_count": null,
   "metadata": {},
   "outputs": [],
   "source": [
    "# rf_fit3 = H2ORandomForestEstimator(model_id='rf_fit3', ntrees=500, nfolds=8, seed=1)\n",
    "# rf_fit3.train(x=x, y=y, training_frame=data)"
   ]
  },
  {
   "cell_type": "code",
   "execution_count": null,
   "metadata": {},
   "outputs": [],
   "source": [
    "# rf_fit3"
   ]
  },
  {
   "cell_type": "markdown",
   "metadata": {},
   "source": [
    "## Métricas de rendimiento"
   ]
  },
  {
   "cell_type": "code",
   "execution_count": null,
   "metadata": {},
   "outputs": [],
   "source": [
    "# rf_perf1 = rf_fit1.model_performance(test)\n",
    "# rf_perf2 = rf_fit2.model_performance(test)\n",
    "# rf_perf3 = rf_fit3.model_performance(test)"
   ]
  },
  {
   "cell_type": "code",
   "execution_count": null,
   "metadata": {},
   "outputs": [],
   "source": [
    "# print(rf_perf1)"
   ]
  },
  {
   "cell_type": "code",
   "execution_count": null,
   "metadata": {},
   "outputs": [],
   "source": [
    "# print(rf_perf2)"
   ]
  },
  {
   "cell_type": "code",
   "execution_count": null,
   "metadata": {},
   "outputs": [],
   "source": [
    "# print(rf_perf3)"
   ]
  },
  {
   "cell_type": "markdown",
   "metadata": {},
   "source": [
    "## Generación de resultado final"
   ]
  },
  {
   "cell_type": "markdown",
   "metadata": {},
   "source": [
    "**Importación de dataset de testeo**\n"
   ]
  },
  {
   "cell_type": "code",
   "execution_count": null,
   "metadata": {},
   "outputs": [],
   "source": [
    "\n",
    "data_test = pd.read_csv(\"Inputs/diamonds_test.csv\")\n",
    "\n",
    "data_test.head(2)\n"
   ]
  },
  {
   "cell_type": "markdown",
   "metadata": {},
   "source": [
    "**Limpieza de dataset**"
   ]
  },
  {
   "cell_type": "code",
   "execution_count": null,
   "metadata": {},
   "outputs": [],
   "source": [
    "class cleanDiamonds_test(TransformerMixin):\n",
    "    def __init__(self):\n",
    "        self.features =[\"id\",\"carat\",\"table\",\"depth\",\"y\",\"z\",\"cut\",\"color\",\"clarity\",\"x\"]\n",
    "    \n",
    "    def fit(self, df):\n",
    "        #Iniciamos limpieza\n",
    "        X = df[self.features]\n",
    "        X.drop(columns=[\"id\",\"table\",\"depth\",\"x\",\"z\"], axis=1, inplace=True)\n",
    "        X[\"cut\"] = X[\"cut\"].replace(\"Premium\", 1).replace(\"Ideal\", 2).replace(\"Very Good\", 3).replace(\"Very Good\", 4).replace(\"Fair\", 5).replace(\"Good\", 6)\n",
    "        X[\"color\"] = X[\"color\"].replace(\"D\", 1).replace(\"E\", 2).replace(\"F\", 3).replace(\"G\", 4).replace(\"H\", 5).replace(\"I\", 6).replace(\"J\", 7)\n",
    "        X[\"clarity\"] = X[\"clarity\"].replace(\"IF\", 1).replace(\"VVS1\", 2).replace(\"VVS2\", 3).replace(\"VS1\", 4).replace(\"VS2\", 5).replace(\"SI1\", 6).replace(\"SI2\", 7).replace(\"I1\", 8)\n",
    "        self.cols = self.X.columns\n",
    "        return self\n",
    "    \n",
    "    def transform(self, X):\n",
    "        return self.X"
   ]
  },
  {
   "cell_type": "code",
   "execution_count": null,
   "metadata": {},
   "outputs": [],
   "source": [
    "cleaner = cleanDiamonds_test()\n",
    "pipe = make_pipeline(*[\n",
    "    cleaner,\n",
    "    #StandardScaler(),\n",
    "    #Normalizer(),\n",
    "])"
   ]
  },
  {
   "cell_type": "code",
   "execution_count": null,
   "metadata": {},
   "outputs": [],
   "source": [
    "X = pipe.fit_transform(data_test)\n",
    "X= pd.DataFrame(X, columns=cleaner.cols)\n",
    "pd.options.display.max_columns =28\n",
    "X.head(3)"
   ]
  },
  {
   "cell_type": "code",
   "execution_count": null,
   "metadata": {},
   "outputs": [],
   "source": [
    "df_export = X.copy()\n",
    "df_export.to_csv(\"Outputs/diamonds_cleaned_test(V1).csv\", index=False)"
   ]
  },
  {
   "cell_type": "markdown",
   "metadata": {},
   "source": [
    "**Transformación a dataframe de H2O**"
   ]
  },
  {
   "cell_type": "code",
   "execution_count": null,
   "metadata": {},
   "outputs": [],
   "source": [
    "loan_csv = \"Outputs/diamonds_cleaned_test(V1).csv\"\n",
    "\n",
    "data_test_h2o = h2o.import_file(loan_csv) "
   ]
  },
  {
   "cell_type": "code",
   "execution_count": null,
   "metadata": {},
   "outputs": [],
   "source": [
    "data_test_h2o.head(2)"
   ]
  },
  {
   "cell_type": "markdown",
   "metadata": {},
   "source": [
    "**Extracción de predicciones**"
   ]
  },
  {
   "cell_type": "code",
   "execution_count": null,
   "metadata": {},
   "outputs": [],
   "source": [
    "y_pred = rf_fit3.predict(test_data=data_test_h2o)\n",
    "\n",
    "price = y_pred.as_data_frame()\n",
    "\n",
    "price = price.rename(columns={\"predict\":\"price\"})\n",
    "price.head()"
   ]
  },
  {
   "cell_type": "code",
   "execution_count": null,
   "metadata": {},
   "outputs": [],
   "source": [
    "result = data_test[[\"id\"]].join(price)\n",
    "\n",
    "result.head()"
   ]
  },
  {
   "cell_type": "markdown",
   "metadata": {},
   "source": [
    "**Generación de reporte final**"
   ]
  },
  {
   "cell_type": "code",
   "execution_count": null,
   "metadata": {},
   "outputs": [],
   "source": [
    "resultDef = result[[\"id\",\"price\"]]\n",
    "\n",
    "resultDef.head(2)"
   ]
  },
  {
   "cell_type": "code",
   "execution_count": null,
   "metadata": {},
   "outputs": [],
   "source": [
    "resultDef.to_csv (\"Outputs/submission.csv\", index = False, header=True)"
   ]
  },
  {
   "cell_type": "markdown",
   "metadata": {},
   "source": [
    "## Última comprobación final"
   ]
  },
  {
   "cell_type": "code",
   "execution_count": null,
   "metadata": {},
   "outputs": [],
   "source": [
    "df_check = pd.read_csv(\"Outputs/submission.csv\")"
   ]
  },
  {
   "cell_type": "code",
   "execution_count": null,
   "metadata": {},
   "outputs": [],
   "source": [
    "df_check.head()"
   ]
  },
  {
   "cell_type": "code",
   "execution_count": null,
   "metadata": {},
   "outputs": [],
   "source": [
    "data_test.head()"
   ]
  },
  {
   "cell_type": "code",
   "execution_count": null,
   "metadata": {},
   "outputs": [],
   "source": []
  }
 ]
}